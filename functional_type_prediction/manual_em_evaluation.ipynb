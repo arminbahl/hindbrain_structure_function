{
 "cells": [
  {
   "cell_type": "code",
   "id": "initial_id",
   "metadata": {
    "collapsed": true,
    "ExecuteTime": {
     "end_time": "2024-05-22T11:51:08.999667Z",
     "start_time": "2024-05-22T11:51:04.895192Z"
    }
   },
   "source": [
    "import os\n",
    "\n",
    "import matplotlib.pyplot as plt\n",
    "import scipy\n",
    "from hindbrain_structure_function.functional_type_prediction.FK_tools.load_cells_predictor_pipeline import *\n",
    "from hindbrain_structure_function.functional_type_prediction.FK_tools.nblast import *\n",
    "from hindbrain_structure_function.functional_type_prediction.FK_tools.make_dendrogramms import *\n",
    "import winsound\n",
    "\n",
    "from datetime import datetime\n",
    "import plotly\n",
    "import matplotlib\n",
    "\n"
   ],
   "execution_count": 1,
   "outputs": []
  },
  {
   "metadata": {
    "ExecuteTime": {
     "end_time": "2024-05-22T11:51:09.713352Z",
     "start_time": "2024-05-22T11:51:09.001676Z"
    }
   },
   "cell_type": "code",
   "source": [
    "name_time = datetime.now()\n",
    "# Set the base path for data by reading from a configuration file; ensures correct data location is used.\n",
    "path_to_data = get_base_path()  # Ensure this path is set in path_configuration.txt\n",
    "\n",
    "all_cells = load_cells_predictor_pipeline(path_to_data=path_to_data,modalities=[\"em\"])"
   ],
   "id": "ffa468c9a7998ea1",
   "execution_count": 2,
   "outputs": []
  },
  {
   "metadata": {
    "ExecuteTime": {
     "end_time": "2024-05-22T11:53:27.343750Z",
     "start_time": "2024-05-22T11:53:24.028992Z"
    }
   },
   "cell_type": "code",
   "source": "fig = navis.plot3d([x for x in all_cells.iloc[:, -1]], backend='plotly',inline=True)",
   "id": "578a52ba97e85640",
   "execution_count": 7,
   "outputs": []
  },
  {
   "metadata": {
    "ExecuteTime": {
     "end_time": "2024-05-22T11:54:07.772546Z",
     "start_time": "2024-05-22T11:54:06.863505Z"
    }
   },
   "cell_type": "code",
   "source": [
    "nl = navis.example_neurons()\n",
    "vol = navis.example_volume('LH')\n",
    "vol.color = (255, 0, 0, .5)\n",
    "# This plots a neuronlists, a single neuron and a volume\n",
    "v = navis.plot3d([nl[0:2], nl[3], vol])\n",
    "# Clear viewer (works only with vispy)\n",
    "v = navis.plot3d(nl, clear3d=True)"
   ],
   "id": "98c0c808fdc0d1f4",
   "execution_count": 8,
   "outputs": []
  }
 ],
 "metadata": {
  "kernelspec": {
   "display_name": "Python 3",
   "language": "python",
   "name": "python3"
  },
  "language_info": {
   "codemirror_mode": {
    "name": "ipython",
    "version": 2
   },
   "file_extension": ".py",
   "mimetype": "text/x-python",
   "name": "python",
   "nbconvert_exporter": "python",
   "pygments_lexer": "ipython2",
   "version": "2.7.6"
  }
 },
 "nbformat": 4,
 "nbformat_minor": 5
}
